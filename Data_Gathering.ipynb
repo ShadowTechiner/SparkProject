{
  "nbformat": 4,
  "nbformat_minor": 0,
  "metadata": {
    "colab": {
      "name": "Data_Gathering.ipynb",
      "provenance": [],
      "collapsed_sections": []
    },
    "kernelspec": {
      "name": "python3",
      "display_name": "Python 3"
    },
    "language_info": {
      "name": "python"
    }
  },
  "cells": [
    {
      "cell_type": "code",
      "source": [
        "import numpy as np\n",
        "import datetime\n",
        "import requests\n",
        "import json"
      ],
      "metadata": {
        "id": "o8dCkLGPWCLU"
      },
      "execution_count": null,
      "outputs": []
    },
    {
      "cell_type": "code",
      "source": [
        "!pip install litresapi"
      ],
      "metadata": {
        "id": "w7HMFNOwOVFM",
        "colab": {
          "base_uri": "https://localhost:8080/"
        },
        "outputId": "ab0be204-a9cb-4881-9eea-6b8f5592c455"
      },
      "execution_count": null,
      "outputs": [
        {
          "output_type": "stream",
          "name": "stdout",
          "text": [
            "Looking in indexes: https://pypi.org/simple, https://us-python.pkg.dev/colab-wheels/public/simple/\n",
            "Requirement already satisfied: litresapi in /usr/local/lib/python3.7/dist-packages (1.2.1)\n",
            "Requirement already satisfied: lxml>=3.4.4 in /usr/local/lib/python3.7/dist-packages (from litresapi) (4.2.6)\n",
            "Requirement already satisfied: requests>=2.7.0 in /usr/local/lib/python3.7/dist-packages (from litresapi) (2.23.0)\n",
            "Requirement already satisfied: chardet<4,>=3.0.2 in /usr/local/lib/python3.7/dist-packages (from requests>=2.7.0->litresapi) (3.0.4)\n",
            "Requirement already satisfied: urllib3!=1.25.0,!=1.25.1,<1.26,>=1.21.1 in /usr/local/lib/python3.7/dist-packages (from requests>=2.7.0->litresapi) (1.24.3)\n",
            "Requirement already satisfied: idna<3,>=2.5 in /usr/local/lib/python3.7/dist-packages (from requests>=2.7.0->litresapi) (2.10)\n",
            "Requirement already satisfied: certifi>=2017.4.17 in /usr/local/lib/python3.7/dist-packages (from requests>=2.7.0->litresapi) (2022.5.18.1)\n"
          ]
        }
      ]
    },
    {
      "cell_type": "code",
      "source": [
        "from litresapi import LitresApi\n",
        "\n",
        "api = LitresApi(secret_key='D7psdo2s*Xjsoq3WdsoSWWvoo', partner_id='YABK')"
      ],
      "metadata": {
        "id": "Vph_A1gcOUgJ"
      },
      "execution_count": null,
      "outputs": []
    },
    {
      "cell_type": "code",
      "source": [
        "lazy_books = api.get_fresh_book(start_date=datetime.datetime(2007, 1, 1), end_date=datetime.datetime(2022,4,1))\n",
        "books = list(lazy_books)"
      ],
      "metadata": {
        "id": "vy4ox4O8UKC1"
      },
      "execution_count": null,
      "outputs": []
    },
    {
      "cell_type": "code",
      "source": [
        "with open('/content/drive/MyDrive/data2007-2022.json', 'w') as outfile:\n",
        "  outfile.write('[')\n",
        "  outfile.write('\\n')\n",
        "  for i,first_book in enumerate(books):\n",
        "    json.dump(first_book, indent=4, ensure_ascii=False,fp=outfile)\n",
        "    if (i!=len(books)-1):\n",
        "      outfile.write(',')\n",
        "    outfile.write('\\n')\n",
        "  outfile.write(']')"
      ],
      "metadata": {
        "id": "5PyoYfS_bG4I"
      },
      "execution_count": null,
      "outputs": []
    }
  ]
}