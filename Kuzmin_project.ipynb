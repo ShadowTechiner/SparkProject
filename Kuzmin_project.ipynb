{
 "cells": [
  {
   "cell_type": "markdown",
   "id": "important-bacteria",
   "metadata": {},
   "source": [
    "## Library import"
   ]
  },
  {
   "cell_type": "code",
   "execution_count": 1,
   "id": "final-paintball",
   "metadata": {
    "scrolled": true
   },
   "outputs": [],
   "source": [
    "import re\n",
    "from bs4 import BeautifulSoup\n",
    "import numpy as np\n",
    "from tqdm import tqdm\n",
    "import matplotlib.pyplot as plt\n",
    "\n",
    "from pyspark.sql import SparkSession\n",
    "from pyspark.sql import functions as F\n",
    "from pyspark.sql.types import MapType, StringType, IntegerType, ArrayType, DoubleType, StructType, StructField, FloatType\n",
    "\n",
    "from pyspark.ml.linalg import Vectors, VectorUDT\n",
    "from pyspark.ml.feature import VectorAssembler\n",
    "from pyspark.ml.feature import IDF as MLIDF\n",
    "from pyspark.ml.feature import HashingTF as MLHashingTF\n",
    "from pyspark.ml.feature import PCA as PCAml\n",
    "from pyspark.ml.clustering import KMeans\n",
    "from pyspark.ml.classification import NaiveBayes\n",
    "from pyspark.ml.classification import RandomForestClassifier\n",
    "from pyspark.ml.evaluation import ClusteringEvaluator\n",
    "from pyspark.ml.evaluation import MulticlassClassificationEvaluator"
   ]
  },
  {
   "cell_type": "markdown",
   "id": "ideal-keyboard",
   "metadata": {},
   "source": [
    "## Creating Spark Session"
   ]
  },
  {
   "cell_type": "code",
   "execution_count": 2,
   "id": "assisted-drove",
   "metadata": {
    "scrolled": true
   },
   "outputs": [],
   "source": [
    "import socket\n",
    "LOCAL_IP = socket.gethostbyname(socket.gethostname())"
   ]
  },
  {
   "cell_type": "code",
   "execution_count": 3,
   "id": "certified-tribune",
   "metadata": {
    "scrolled": true
   },
   "outputs": [],
   "source": [
    "spark = (\n",
    "    SparkSession\n",
    "    .builder\n",
    "    .master('k8s://https://10.32.7.103:6443')\n",
    "    .config('spark.driver.host', LOCAL_IP)\n",
    "    .config('spark.driver.bindAddress', '0.0.0.0')\n",
    "    .config('spark.executor.instances', '3')\n",
    "    .config('spark.executor.cores', '2')\n",
    "    .config('spark.cores.max', '4')\n",
    "    .config('spark.executor.memory', '4g')\n",
    "    .config('spark.sql.execution.arrow.enabled', 'true')\n",
    "    .config('spark.kubernetes.namespace', 'akuzmin-337762')\n",
    "    .config('spark.kubernetes.container.image', 'node03.st:5000/spark-executor:akuzmin-337762')\n",
    "    .config('spark.kubernetes.container.image.pullPolicy', 'Always')\n",
    "    .config('spark.kubernetes.executor.deleteOnTermination', 'false')\n",
    "    .getOrCreate()\n",
    ")"
   ]
  },
  {
   "cell_type": "code",
   "execution_count": 4,
   "id": "bottom-audio",
   "metadata": {},
   "outputs": [],
   "source": [
    "sc = spark.sparkContext"
   ]
  },
  {
   "cell_type": "code",
   "execution_count": 13,
   "id": "tight-terry",
   "metadata": {},
   "outputs": [
    {
     "name": "stdout",
     "output_type": "stream",
     "text": [
      "total 175M\r\n",
      "drwxr-xr-x. 16 akuzmin-337762 akuzmin-337762 4.0K Jun 27 13:36  .\r\n",
      "drwsrwsr-x.  1 akuzmin-337762 akuzmin-337762  126 Jun 11 12:03  ..\r\n",
      "-rw-r--r--.  1 akuzmin-337762 akuzmin-337762 108K Jun 27 13:36  Course_project.ipynb\r\n",
      "drwxr-xr-x.  7 akuzmin-337762 akuzmin-337762 4.0K Jun 12 11:02  DAWG-Python-0.7.2\r\n",
      "-rw-r--r--.  1 akuzmin-337762 akuzmin-337762 5.3K Jun 14 13:02  dawg_python.zip\r\n",
      "drwxr-xr-x.  8 akuzmin-337762 akuzmin-337762 4.0K Jun 12 11:00  docopt-master\r\n",
      "-rw-r--r--.  1 akuzmin-337762 akuzmin-337762  36K Jun 13 13:14  docopt-master.zip\r\n",
      "-rw-r--r--.  1 akuzmin-337762 akuzmin-337762  38M Jun 13 13:35  gen_natasha.zip\r\n",
      "drwxr-xr-x.  7 akuzmin-337762 akuzmin-337762 4.0K Jun 12 11:15  intervaltree-3.1.0\r\n",
      "-rw-r--r--.  1 akuzmin-337762 akuzmin-337762  17K Jun 13 13:07  intervaltree.zip\r\n",
      "drwxr-xr-x.  8 akuzmin-337762 akuzmin-337762 4.0K Jun 12 11:13  ipymarkup-0.9.0\r\n",
      "-rw-r--r--.  1 akuzmin-337762 akuzmin-337762  11K Jun 13 13:06  ipymarkup.zip\r\n",
      "drwxr-xr-x.  2 akuzmin-337762 akuzmin-337762 4.0K Jun  3 11:28  .ipynb_checkpoints\r\n",
      "-rw-r--r--.  1 akuzmin-337762 akuzmin-337762 6.3K May 29 12:37  Lab_180522.ipynb\r\n",
      "-rw-r--r--.  1 akuzmin-337762 akuzmin-337762  91K Jun  3 09:41 'Lab #2.ipynb'\r\n",
      "-rw-r--r--.  1 akuzmin-337762 akuzmin-337762 6.8K Jun 13 19:00  lang.zip\r\n",
      "drwxr-xr-x.  8 akuzmin-337762 akuzmin-337762 4.0K Jun 12 11:11  natasha-master\r\n",
      "-rw-r--r--.  1 akuzmin-337762 akuzmin-337762  33M Jun 13 12:23  natasha-master.zip\r\n",
      "-rw-r--r--.  1 akuzmin-337762 akuzmin-337762  33M Jun 13 13:00  natasha.zip\r\n",
      "-rw-r--r--.  1 akuzmin-337762 akuzmin-337762  51M Jun 12 11:20  navec_hudlit_v1_12B_500K_300d_100q.tar\r\n",
      "drwxr-sr-x.  8 akuzmin-337762 akuzmin-337762 4.0K Jun  6 10:25  navec-master\r\n",
      "-rw-r--r--.  1 akuzmin-337762 akuzmin-337762  15K Jun 13 13:02  navec.zip\r\n",
      "drwxr-xr-x.  7 akuzmin-337762 akuzmin-337762 4.0K Jun 12 11:04  pymorphy2-dicts-ru\r\n",
      "-rw-r--r--.  1 akuzmin-337762 akuzmin-337762 7.9M Jun 14 11:25  pymorphy2_dicts_ru-2.4.417127.4579844-py2.py3-none-any.whl\r\n",
      "-rw-r--r--.  1 akuzmin-337762 akuzmin-337762 2.7K Jun 13 19:37  pymorphy2_dicts_ru.egg-info.zip\r\n",
      "-rw-r--r--.  1 akuzmin-337762 akuzmin-337762 7.8M Jun 13 20:07  pymorphy2_dicts_ru.zip\r\n",
      "drwxr-xr-x. 11 akuzmin-337762 akuzmin-337762 4.0K Jun 12 10:58  pymorphy2-master\r\n",
      "-rw-r--r--.  1 akuzmin-337762 akuzmin-337762  52K Jun 14 13:26  pymorphy2.zip\r\n",
      "drwxr-xr-x.  5 akuzmin-337762 akuzmin-337762 4.0K Jun 14 11:41  pyspark_venv\r\n",
      "drwxr-sr-x.  9 akuzmin-337762 akuzmin-337762 4.0K Jun  6 12:03  razdel-master\r\n",
      "-rw-r--r--.  1 akuzmin-337762 akuzmin-337762 4.6M Jun 13 13:02  razdel.zip\r\n",
      "drwxr-sr-x. 10 akuzmin-337762 akuzmin-337762 4.0K Jun  6 12:16  slovnet-master\r\n",
      "-rw-r--r--.  1 akuzmin-337762 akuzmin-337762  40K Jun 13 13:06  slovnet.zip\r\n",
      "drwxr-xr-x. 18 akuzmin-337762 akuzmin-337762 4.0K May 31 12:39  spark-warehouse\r\n",
      "-rw-r--r--.  1 akuzmin-337762 akuzmin-337762  738 Apr 27 16:20  test.ipynb\r\n",
      "-rw-r--r--.  1 akuzmin-337762 akuzmin-337762  24K Jun  3 11:29  test-spark.ipynb\r\n",
      "drwxr-sr-x.  9 akuzmin-337762 akuzmin-337762 4.0K Jun  6 11:32  yargy-master\r\n",
      "-rw-r--r--.  1 akuzmin-337762 akuzmin-337762  38K Jun 13 13:08  yargy.zip\r\n"
     ]
    }
   ],
   "source": [
    "!ls -lah /home/jovyan/nfs-home/"
   ]
  },
  {
   "cell_type": "code",
   "execution_count": 5,
   "id": "undefined-istanbul",
   "metadata": {},
   "outputs": [],
   "source": [
    "sc.addPyFile('/home/jovyan/nfs-home/natasha.zip')\n",
    "sc.addPyFile('/home/jovyan/nfs-home/navec.zip')\n",
    "sc.addPyFile('/home/jovyan/nfs-home/yargy.zip')\n",
    "sc.addPyFile('/home/jovyan/nfs-home/slovnet.zip')\n",
    "sc.addPyFile('/home/jovyan/nfs-home/razdel.zip')\n",
    "sc.addPyFile('/home/jovyan/nfs-home/pymorphy2.zip')\n",
    "sc.addPyFile('/home/jovyan/nfs-home/dawg_python.zip')\n",
    "sc.addPyFile('/home/jovyan/nfs-home/intervaltree.zip')\n",
    "sc.addPyFile('/home/jovyan/nfs-home/ipymarkup.zip')\n",
    "sc.addPyFile('/home/jovyan/nfs-home/docopt-master.zip')\n",
    "sc.addPyFile('/home/jovyan/nfs-home/navec_hudlit_v1_12B_500K_300d_100q.tar')\n",
    "sc.addPyFile('/home/jovyan/nfs-home/pymorphy2-dicts-ru/dist/pymorphy2_dicts_ru-2.4.417127.4579844-py3.8.egg')"
   ]
  },
  {
   "cell_type": "code",
   "execution_count": 6,
   "id": "controversial-individual",
   "metadata": {},
   "outputs": [],
   "source": [
    "import pymorphy2\n",
    "from navec import Navec\n",
    "from nltk.corpus import stopwords\n",
    "from nltk.stem.snowball import SnowballStemmer \n",
    "\n",
    "stop_words = stopwords.words(\"russian\")\n",
    "path = '/home/jovyan/nfs-home/navec_hudlit_v1_12B_500K_300d_100q.tar'\n",
    "navec = Navec.load(path)\n",
    "stemmer = SnowballStemmer(\"russian\") "
   ]
  },
  {
   "cell_type": "code",
   "execution_count": 60,
   "id": "novel-adams",
   "metadata": {
    "collapsed": true,
    "scrolled": false
   },
   "outputs": [
    {
     "name": "stdout",
     "output_type": "stream",
     "text": [
      "running install\n",
      "running bdist_egg\n",
      "running egg_info\n",
      "writing natasha.egg-info/PKG-INFO\n",
      "writing dependency_links to natasha.egg-info/dependency_links.txt\n",
      "writing requirements to natasha.egg-info/requires.txt\n",
      "writing top-level names to natasha.egg-info/top_level.txt\n",
      "reading manifest file 'natasha.egg-info/SOURCES.txt'\n",
      "reading manifest template 'MANIFEST.in'\n",
      "no previously-included directories found matching '.git'\n",
      "writing manifest file 'natasha.egg-info/SOURCES.txt'\n",
      "installing library code to build/bdist.linux-x86_64/egg\n",
      "running install_lib\n",
      "running build_py\n",
      "creating build/bdist.linux-x86_64/egg\n",
      "creating build/bdist.linux-x86_64/egg/natasha\n",
      "copying build/lib/natasha/record.py -> build/bdist.linux-x86_64/egg/natasha\n",
      "copying build/lib/natasha/syntax.py -> build/bdist.linux-x86_64/egg/natasha\n",
      "creating build/bdist.linux-x86_64/egg/natasha/grammars\n",
      "copying build/lib/natasha/grammars/money.py -> build/bdist.linux-x86_64/egg/natasha/grammars\n",
      "copying build/lib/natasha/grammars/name.py -> build/bdist.linux-x86_64/egg/natasha/grammars\n",
      "copying build/lib/natasha/grammars/addr.py -> build/bdist.linux-x86_64/egg/natasha/grammars\n",
      "copying build/lib/natasha/grammars/__init__.py -> build/bdist.linux-x86_64/egg/natasha/grammars\n",
      "copying build/lib/natasha/grammars/date.py -> build/bdist.linux-x86_64/egg/natasha/grammars\n",
      "copying build/lib/natasha/const.py -> build/bdist.linux-x86_64/egg/natasha\n",
      "copying build/lib/natasha/shape.py -> build/bdist.linux-x86_64/egg/natasha\n",
      "creating build/bdist.linux-x86_64/egg/natasha/tests\n",
      "copying build/lib/natasha/tests/test_name.py -> build/bdist.linux-x86_64/egg/natasha/tests\n",
      "copying build/lib/natasha/tests/test_span.py -> build/bdist.linux-x86_64/egg/natasha/tests\n",
      "copying build/lib/natasha/tests/test_money.py -> build/bdist.linux-x86_64/egg/natasha/tests\n",
      "copying build/lib/natasha/tests/__init__.py -> build/bdist.linux-x86_64/egg/natasha/tests\n",
      "copying build/lib/natasha/tests/test_addr.py -> build/bdist.linux-x86_64/egg/natasha/tests\n",
      "copying build/lib/natasha/tests/test_doc.py -> build/bdist.linux-x86_64/egg/natasha/tests\n",
      "copying build/lib/natasha/tests/test_date.py -> build/bdist.linux-x86_64/egg/natasha/tests\n",
      "copying build/lib/natasha/tests/conftest.py -> build/bdist.linux-x86_64/egg/natasha/tests\n",
      "copying build/lib/natasha/emb.py -> build/bdist.linux-x86_64/egg/natasha\n",
      "copying build/lib/natasha/__init__.py -> build/bdist.linux-x86_64/egg/natasha\n",
      "copying build/lib/natasha/ner.py -> build/bdist.linux-x86_64/egg/natasha\n",
      "copying build/lib/natasha/extractors.py -> build/bdist.linux-x86_64/egg/natasha\n",
      "creating build/bdist.linux-x86_64/egg/natasha/data\n",
      "copying build/lib/natasha/data/__init__.py -> build/bdist.linux-x86_64/egg/natasha/data\n",
      "creating build/bdist.linux-x86_64/egg/natasha/data/emb\n",
      "copying build/lib/natasha/data/emb/navec_news_v1_1B_250K_300d_100q.tar -> build/bdist.linux-x86_64/egg/natasha/data/emb\n",
      "creating build/bdist.linux-x86_64/egg/natasha/data/dict\n",
      "copying build/lib/natasha/data/dict/first.txt -> build/bdist.linux-x86_64/egg/natasha/data/dict\n",
      "copying build/lib/natasha/data/dict/maybe_first.txt -> build/bdist.linux-x86_64/egg/natasha/data/dict\n",
      "copying build/lib/natasha/data/dict/last.txt -> build/bdist.linux-x86_64/egg/natasha/data/dict\n",
      "creating build/bdist.linux-x86_64/egg/natasha/data/model\n",
      "copying build/lib/natasha/data/model/slovnet_ner_news_v1.tar -> build/bdist.linux-x86_64/egg/natasha/data/model\n",
      "copying build/lib/natasha/data/model/slovnet_morph_news_v1.tar -> build/bdist.linux-x86_64/egg/natasha/data/model\n",
      "copying build/lib/natasha/data/model/slovnet_syntax_news_v1.tar -> build/bdist.linux-x86_64/egg/natasha/data/model\n",
      "copying build/lib/natasha/span.py -> build/bdist.linux-x86_64/egg/natasha\n",
      "copying build/lib/natasha/norm.py -> build/bdist.linux-x86_64/egg/natasha\n",
      "copying build/lib/natasha/obj.py -> build/bdist.linux-x86_64/egg/natasha\n",
      "copying build/lib/natasha/segment.py -> build/bdist.linux-x86_64/egg/natasha\n",
      "copying build/lib/natasha/doc.py -> build/bdist.linux-x86_64/egg/natasha\n",
      "creating build/bdist.linux-x86_64/egg/natasha/morph\n",
      "copying build/lib/natasha/morph/__init__.py -> build/bdist.linux-x86_64/egg/natasha/morph\n",
      "copying build/lib/natasha/morph/lemma.py -> build/bdist.linux-x86_64/egg/natasha/morph\n",
      "copying build/lib/natasha/morph/vocab.py -> build/bdist.linux-x86_64/egg/natasha/morph\n",
      "copying build/lib/natasha/morph/tagger.py -> build/bdist.linux-x86_64/egg/natasha/morph\n",
      "byte-compiling build/bdist.linux-x86_64/egg/natasha/record.py to record.cpython-38.pyc\n",
      "byte-compiling build/bdist.linux-x86_64/egg/natasha/syntax.py to syntax.cpython-38.pyc\n",
      "byte-compiling build/bdist.linux-x86_64/egg/natasha/grammars/money.py to money.cpython-38.pyc\n",
      "byte-compiling build/bdist.linux-x86_64/egg/natasha/grammars/name.py to name.cpython-38.pyc\n",
      "byte-compiling build/bdist.linux-x86_64/egg/natasha/grammars/addr.py to addr.cpython-38.pyc\n",
      "byte-compiling build/bdist.linux-x86_64/egg/natasha/grammars/__init__.py to __init__.cpython-38.pyc\n",
      "byte-compiling build/bdist.linux-x86_64/egg/natasha/grammars/date.py to date.cpython-38.pyc\n",
      "byte-compiling build/bdist.linux-x86_64/egg/natasha/const.py to const.cpython-38.pyc\n",
      "byte-compiling build/bdist.linux-x86_64/egg/natasha/shape.py to shape.cpython-38.pyc\n",
      "byte-compiling build/bdist.linux-x86_64/egg/natasha/tests/test_name.py to test_name.cpython-38.pyc\n",
      "byte-compiling build/bdist.linux-x86_64/egg/natasha/tests/test_span.py to test_span.cpython-38.pyc\n",
      "byte-compiling build/bdist.linux-x86_64/egg/natasha/tests/test_money.py to test_money.cpython-38.pyc\n",
      "byte-compiling build/bdist.linux-x86_64/egg/natasha/tests/__init__.py to __init__.cpython-38.pyc\n",
      "byte-compiling build/bdist.linux-x86_64/egg/natasha/tests/test_addr.py to test_addr.cpython-38.pyc\n",
      "byte-compiling build/bdist.linux-x86_64/egg/natasha/tests/test_doc.py to test_doc.cpython-38.pyc\n",
      "byte-compiling build/bdist.linux-x86_64/egg/natasha/tests/test_date.py to test_date.cpython-38.pyc\n",
      "byte-compiling build/bdist.linux-x86_64/egg/natasha/tests/conftest.py to conftest.cpython-38.pyc\n",
      "byte-compiling build/bdist.linux-x86_64/egg/natasha/emb.py to emb.cpython-38.pyc\n",
      "byte-compiling build/bdist.linux-x86_64/egg/natasha/__init__.py to __init__.cpython-38.pyc\n",
      "byte-compiling build/bdist.linux-x86_64/egg/natasha/ner.py to ner.cpython-38.pyc\n",
      "byte-compiling build/bdist.linux-x86_64/egg/natasha/extractors.py to extractors.cpython-38.pyc\n",
      "byte-compiling build/bdist.linux-x86_64/egg/natasha/data/__init__.py to __init__.cpython-38.pyc\n",
      "byte-compiling build/bdist.linux-x86_64/egg/natasha/span.py to span.cpython-38.pyc\n",
      "byte-compiling build/bdist.linux-x86_64/egg/natasha/norm.py to norm.cpython-38.pyc\n",
      "byte-compiling build/bdist.linux-x86_64/egg/natasha/obj.py to obj.cpython-38.pyc\n",
      "byte-compiling build/bdist.linux-x86_64/egg/natasha/segment.py to segment.cpython-38.pyc\n",
      "byte-compiling build/bdist.linux-x86_64/egg/natasha/doc.py to doc.cpython-38.pyc\n",
      "byte-compiling build/bdist.linux-x86_64/egg/natasha/morph/__init__.py to __init__.cpython-38.pyc\n",
      "byte-compiling build/bdist.linux-x86_64/egg/natasha/morph/lemma.py to lemma.cpython-38.pyc\n",
      "byte-compiling build/bdist.linux-x86_64/egg/natasha/morph/vocab.py to vocab.cpython-38.pyc\n",
      "byte-compiling build/bdist.linux-x86_64/egg/natasha/morph/tagger.py to tagger.cpython-38.pyc\n",
      "creating build/bdist.linux-x86_64/egg/EGG-INFO\n",
      "copying natasha.egg-info/PKG-INFO -> build/bdist.linux-x86_64/egg/EGG-INFO\n",
      "copying natasha.egg-info/SOURCES.txt -> build/bdist.linux-x86_64/egg/EGG-INFO\n",
      "copying natasha.egg-info/dependency_links.txt -> build/bdist.linux-x86_64/egg/EGG-INFO\n",
      "copying natasha.egg-info/requires.txt -> build/bdist.linux-x86_64/egg/EGG-INFO\n",
      "copying natasha.egg-info/top_level.txt -> build/bdist.linux-x86_64/egg/EGG-INFO\n",
      "zip_safe flag not set; analyzing archive contents...\n",
      "natasha.data.__pycache__.__init__.cpython-38: module references __file__\n",
      "creating 'dist/natasha-1.4.0-py3.8.egg' and adding 'build/bdist.linux-x86_64/egg' to it\n",
      "removing 'build/bdist.linux-x86_64/egg' (and everything under it)\n",
      "Processing natasha-1.4.0-py3.8.egg\n",
      "removing '/home/jovyan/.local/lib/python3.8/site-packages/natasha-1.4.0-py3.8.egg' (and everything under it)\n",
      "creating /home/jovyan/.local/lib/python3.8/site-packages/natasha-1.4.0-py3.8.egg\n",
      "Extracting natasha-1.4.0-py3.8.egg to /home/jovyan/.local/lib/python3.8/site-packages\n",
      "natasha 1.4.0 is already the active version in easy-install.pth\r\n",
      "\r\n",
      "Installed /home/jovyan/.local/lib/python3.8/site-packages/natasha-1.4.0-py3.8.egg\r\n",
      "Processing dependencies for natasha==1.4.0\r\n",
      "Searching for ipymarkup==0.9.0\r\n",
      "Best match: ipymarkup 0.9.0\r\n",
      "Processing ipymarkup-0.9.0-py3.8.egg\r\n",
      "ipymarkup 0.9.0 is already the active version in easy-install.pth\r\n",
      "\r\n",
      "Using /home/jovyan/.local/lib/python3.8/site-packages/ipymarkup-0.9.0-py3.8.egg\r\n",
      "Searching for yargy==0.15.0\r\n",
      "Best match: yargy 0.15.0\r\n",
      "Processing yargy-0.15.0-py3.8.egg\r\n",
      "yargy 0.15.0 is already the active version in easy-install.pth\r\n",
      "\r\n",
      "Using /home/jovyan/.local/lib/python3.8/site-packages/yargy-0.15.0-py3.8.egg\r\n",
      "Searching for slovnet==0.5.0\r\n",
      "Best match: slovnet 0.5.0\r\n",
      "Processing slovnet-0.5.0-py3.8.egg\r\n",
      "slovnet 0.5.0 is already the active version in easy-install.pth\r\n",
      "\r\n",
      "Using /home/jovyan/.local/lib/python3.8/site-packages/slovnet-0.5.0-py3.8.egg\r\n",
      "Searching for navec==0.10.0\r\n",
      "Best match: navec 0.10.0\r\n",
      "Processing navec-0.10.0-py3.8.egg\r\n",
      "navec 0.10.0 is already the active version in easy-install.pth\r\n",
      "Installing navec-train script to /home/jovyan/.local/bin\r\n",
      "\r\n",
      "Using /home/jovyan/.local/lib/python3.8/site-packages/navec-0.10.0-py3.8.egg\r\n",
      "Searching for razdel==0.5.0\r\n",
      "Best match: razdel 0.5.0\r\n",
      "Processing razdel-0.5.0-py3.8.egg\r\n",
      "razdel 0.5.0 is already the active version in easy-install.pth\r\n",
      "Installing razdel-ctl script to /home/jovyan/.local/bin\r\n",
      "\r\n",
      "Using /home/jovyan/.local/lib/python3.8/site-packages/razdel-0.5.0-py3.8.egg\r\n",
      "Searching for pymorphy2==0.9.1\r\n",
      "Best match: pymorphy2 0.9.1\r\n",
      "Processing pymorphy2-0.9.1-py3.8.egg\r\n",
      "pymorphy2 0.9.1 is already the active version in easy-install.pth\r\n",
      "Installing pymorphy script to /home/jovyan/.local/bin\r\n",
      "\r\n",
      "Using /home/jovyan/.local/lib/python3.8/site-packages/pymorphy2-0.9.1-py3.8.egg\r\n",
      "Searching for intervaltree==3.1.0\r\n",
      "Best match: intervaltree 3.1.0\r\n",
      "Processing intervaltree-3.1.0-py3.8.egg\r\n",
      "intervaltree 3.1.0 is already the active version in easy-install.pth\r\n",
      "\r\n",
      "Using /home/jovyan/.local/lib/python3.8/site-packages/intervaltree-3.1.0-py3.8.egg\r\n",
      "Searching for numpy==1.20.1\r\n",
      "Best match: numpy 1.20.1\r\n",
      "Adding numpy 1.20.1 to easy-install.pth file\r\n",
      "Installing f2py script to /home/jovyan/.local/bin\r\n",
      "Installing f2py3 script to /home/jovyan/.local/bin\r\n",
      "Installing f2py3.8 script to /home/jovyan/.local/bin\r\n",
      "\r\n",
      "Using /opt/conda/lib/python3.8/site-packages\r\n",
      "Searching for docopt==0.6.2\r\n",
      "Best match: docopt 0.6.2\r\n",
      "Processing docopt-0.6.2-py3.8.egg\r\n",
      "docopt 0.6.2 is already the active version in easy-install.pth\r\n",
      "\r\n",
      "Using /home/jovyan/.local/lib/python3.8/site-packages/docopt-0.6.2-py3.8.egg\r\n",
      "Searching for pymorphy2-dicts-ru==2.4.417127.4579844\r\n",
      "Best match: pymorphy2-dicts-ru 2.4.417127.4579844\r\n",
      "Processing pymorphy2_dicts_ru-2.4.417127.4579844-py3.8.egg\r\n",
      "pymorphy2-dicts-ru 2.4.417127.4579844 is already the active version in easy-install.pth\r\n",
      "\r\n",
      "Using /home/jovyan/.local/lib/python3.8/site-packages/pymorphy2_dicts_ru-2.4.417127.4579844-py3.8.egg\r\n",
      "Searching for DAWG-Python==0.7.2\r\n",
      "Best match: DAWG-Python 0.7.2\r\n",
      "Processing DAWG_Python-0.7.2-py3.8.egg\r\n",
      "DAWG-Python 0.7.2 is already the active version in easy-install.pth\r\n",
      "\r\n",
      "Using /home/jovyan/.local/lib/python3.8/site-packages/DAWG_Python-0.7.2-py3.8.egg\r\n",
      "Searching for sortedcontainers==2.3.0\r\n",
      "Best match: sortedcontainers 2.3.0\r\n",
      "Adding sortedcontainers 2.3.0 to easy-install.pth file\r\n",
      "\r\n",
      "Using /opt/conda/lib/python3.8/site-packages\r\n",
      "Finished processing dependencies for natasha==1.4.0\r\n"
     ]
    }
   ],
   "source": [
    "#!python setup.py install --user"
   ]
  },
  {
   "cell_type": "code",
   "execution_count": 7,
   "id": "sexual-holocaust",
   "metadata": {
    "scrolled": true
   },
   "outputs": [
    {
     "data": {
      "text/html": [
       "\n",
       "            <div>\n",
       "                <p><b>SparkSession - in-memory</b></p>\n",
       "                \n",
       "        <div>\n",
       "            <p><b>SparkContext</b></p>\n",
       "\n",
       "            <p><a href=\"http://10.128.65.174:4040\">Spark UI</a></p>\n",
       "\n",
       "            <dl>\n",
       "              <dt>Version</dt>\n",
       "                <dd><code>v3.1.1</code></dd>\n",
       "              <dt>Master</dt>\n",
       "                <dd><code>k8s://https://10.32.7.103:6443</code></dd>\n",
       "              <dt>AppName</dt>\n",
       "                <dd><code>pyspark-shell</code></dd>\n",
       "            </dl>\n",
       "        </div>\n",
       "        \n",
       "            </div>\n",
       "        "
      ],
      "text/plain": [
       "<pyspark.sql.session.SparkSession at 0x7f8ede296040>"
      ]
     },
     "execution_count": 7,
     "metadata": {},
     "output_type": "execute_result"
    }
   ],
   "source": [
    "spark"
   ]
  },
  {
   "cell_type": "markdown",
   "id": "printable-seminar",
   "metadata": {},
   "source": [
    "## Reading initial dataset"
   ]
  },
  {
   "cell_type": "code",
   "execution_count": 9,
   "id": "biological-calcium",
   "metadata": {
    "scrolled": true
   },
   "outputs": [],
   "source": [
    "df = spark.read.parquet(\"/tmp/akuzmin-337762/project/dataset.parquet\")"
   ]
  },
  {
   "cell_type": "code",
   "execution_count": 47,
   "id": "pleasant-clause",
   "metadata": {},
   "outputs": [
    {
     "name": "stdout",
     "output_type": "stream",
     "text": [
      "+--------------------+---------+\n",
      "|          annotation|    genre|\n",
      "+--------------------+---------+\n",
      "|<p>Свадебное путе...|     null|\n",
      "|                null|[мистика]|\n",
      "|                null|[мистика]|\n",
      "|                null|[мистика]|\n",
      "|                null|[мистика]|\n",
      "+--------------------+---------+\n",
      "only showing top 5 rows\n",
      "\n"
     ]
    }
   ],
   "source": [
    "df.select('annotation',F.col('genres.genre.@title').alias('genre')).where('annotation is NULL or genre is NULL').show(5)"
   ]
  },
  {
   "cell_type": "code",
   "execution_count": 261,
   "id": "sitting-ozone",
   "metadata": {},
   "outputs": [
    {
     "name": "stdout",
     "output_type": "stream",
     "text": [
      "root\n",
      " |-- @adult: string (nullable = true)\n",
      " |-- @allow_full_free: string (nullable = true)\n",
      " |-- @allow_read: string (nullable = true)\n",
      " |-- @allow_sell: string (nullable = true)\n",
      " |-- @art_cover: string (nullable = true)\n",
      " |-- @art_cover_h: string (nullable = true)\n",
      " |-- @art_cover_w: string (nullable = true)\n",
      " |-- @available: string (nullable = true)\n",
      " |-- @available_date: string (nullable = true)\n",
      " |-- @can_preorder: string (nullable = true)\n",
      " |-- @chars: string (nullable = true)\n",
      " |-- @contract_author: string (nullable = true)\n",
      " |-- @contract_ends: string (nullable = true)\n",
      " |-- @contract_title: string (nullable = true)\n",
      " |-- @copyright_read_online: string (nullable = true)\n",
      " |-- @cover: string (nullable = true)\n",
      " |-- @cover_h: string (nullable = true)\n",
      " |-- @cover_w: string (nullable = true)\n",
      " |-- @created: string (nullable = true)\n",
      " |-- @date_written_d: string (nullable = true)\n",
      " |-- @date_written_s: string (nullable = true)\n",
      " |-- @drm: string (nullable = true)\n",
      " |-- @external_id: string (nullable = true)\n",
      " |-- @file_id: string (nullable = true)\n",
      " |-- @file_parts: string (nullable = true)\n",
      " |-- @first_time_sale: string (nullable = true)\n",
      " |-- @has_trial: string (nullable = true)\n",
      " |-- @id: string (nullable = true)\n",
      " |-- @images: string (nullable = true)\n",
      " |-- @inapp_price: string (nullable = true)\n",
      " |-- @isbn: string (nullable = true)\n",
      " |-- @lang: string (nullable = true)\n",
      " |-- @lang3: string (nullable = true)\n",
      " |-- @last_release: string (nullable = true)\n",
      " |-- @litex: string (nullable = true)\n",
      " |-- @litres_isbn: string (nullable = true)\n",
      " |-- @lvl: string (nullable = true)\n",
      " |-- @must_import: string (nullable = true)\n",
      " |-- @options: string (nullable = true)\n",
      " |-- @price: string (nullable = true)\n",
      " |-- @public_domain: string (nullable = true)\n",
      " |-- @publisher: string (nullable = true)\n",
      " |-- @rating: string (nullable = true)\n",
      " |-- @rt_subscription: string (nullable = true)\n",
      " |-- @sell_open: string (nullable = true)\n",
      " |-- @sent_by_id: string (nullable = true)\n",
      " |-- @sent_by_name: string (nullable = true)\n",
      " |-- @size: string (nullable = true)\n",
      " |-- @src_lang: string (nullable = true)\n",
      " |-- @src_lang3: string (nullable = true)\n",
      " |-- @status: string (nullable = true)\n",
      " |-- @subject_id: string (nullable = true)\n",
      " |-- @tag: string (nullable = true)\n",
      " |-- @type: string (nullable = true)\n",
      " |-- @udk: string (nullable = true)\n",
      " |-- @updated: string (nullable = true)\n",
      " |-- @url: string (nullable = true)\n",
      " |-- @valid_from: string (nullable = true)\n",
      " |-- @valid_till: string (nullable = true)\n",
      " |-- @you_can_sell: string (nullable = true)\n",
      " |-- annotation: string (nullable = true)\n",
      " |-- authors: struct (nullable = true)\n",
      " |    |-- author: array (nullable = true)\n",
      " |    |    |-- element: struct (containsNull = true)\n",
      " |    |    |    |-- @id: string (nullable = true)\n",
      " |    |    |    |-- exid: string (nullable = true)\n",
      " |    |    |    |-- first-name: string (nullable = true)\n",
      " |    |    |    |-- full-name-rodit: string (nullable = true)\n",
      " |    |    |    |-- last-name: string (nullable = true)\n",
      " |    |    |    |-- lvl: string (nullable = true)\n",
      " |    |    |    |-- middle-name: string (nullable = true)\n",
      " |    |    |    |-- relation: string (nullable = true)\n",
      " |    |    |    |-- subject_id: string (nullable = true)\n",
      " |    |    |    |-- url: string (nullable = true)\n",
      " |-- book-title: struct (nullable = true)\n",
      " |    |-- @subtitle: string (nullable = true)\n",
      " |    |-- @title: string (nullable = true)\n",
      " |-- copyrights: struct (nullable = true)\n",
      " |    |-- copyright: array (nullable = true)\n",
      " |    |    |-- element: struct (containsNull = true)\n",
      " |    |    |    |-- @id: string (nullable = true)\n",
      " |    |    |    |-- @percent: string (nullable = true)\n",
      " |    |    |    |-- @title: string (nullable = true)\n",
      " |-- custom-info: string (nullable = true)\n",
      " |-- document-info: struct (nullable = true)\n",
      " |    |-- author: array (nullable = true)\n",
      " |    |    |-- element: struct (containsNull = true)\n",
      " |    |    |    |-- email: string (nullable = true)\n",
      " |    |    |    |-- first-name: string (nullable = true)\n",
      " |    |    |    |-- home-page: string (nullable = true)\n",
      " |    |    |    |-- id: string (nullable = true)\n",
      " |    |    |    |-- last-name: string (nullable = true)\n",
      " |    |    |    |-- middle-name: string (nullable = true)\n",
      " |    |    |    |-- nickname: string (nullable = true)\n",
      " |    |-- date: string (nullable = true)\n",
      " |    |-- history: struct (nullable = true)\n",
      " |    |    |-- cite: string (nullable = true)\n",
      " |    |    |-- empty-line: array (nullable = true)\n",
      " |    |    |    |-- element: string (containsNull = true)\n",
      " |    |    |-- p: string (nullable = true)\n",
      " |    |-- id: string (nullable = true)\n",
      " |    |-- program-used: string (nullable = true)\n",
      " |    |-- publisher: string (nullable = true)\n",
      " |    |-- src-ocr: string (nullable = true)\n",
      " |    |-- src-url: string (nullable = true)\n",
      " |    |-- version: string (nullable = true)\n",
      " |-- files: struct (nullable = true)\n",
      " |    |-- file: string (nullable = true)\n",
      " |-- genres: struct (nullable = true)\n",
      " |    |-- genre: array (nullable = true)\n",
      " |    |    |-- element: struct (containsNull = true)\n",
      " |    |    |    |-- @bisac: string (nullable = true)\n",
      " |    |    |    |-- @id: string (nullable = true)\n",
      " |    |    |    |-- @master: string (nullable = true)\n",
      " |    |    |    |-- @title: string (nullable = true)\n",
      " |-- id: string (nullable = true)\n",
      " |-- livelib: struct (nullable = true)\n",
      " |    |-- @avg_mark: string (nullable = true)\n",
      " |    |-- @count_readers: string (nullable = true)\n",
      " |    |-- @livelib_id: string (nullable = true)\n",
      " |    |-- @mark_1: string (nullable = true)\n",
      " |    |-- @mark_2: string (nullable = true)\n",
      " |    |-- @mark_3: string (nullable = true)\n",
      " |    |-- @mark_4: string (nullable = true)\n",
      " |    |-- @mark_5: string (nullable = true)\n",
      " |    |-- @rating: string (nullable = true)\n",
      " |    |-- @widget_url: string (nullable = true)\n",
      " |    |-- @widget_url2: string (nullable = true)\n",
      " |-- moved_to: string (nullable = true)\n",
      " |-- publish-info: struct (nullable = true)\n",
      " |    |-- book-name: string (nullable = true)\n",
      " |    |-- city: string (nullable = true)\n",
      " |    |-- isbn: string (nullable = true)\n",
      " |    |-- publisher: string (nullable = true)\n",
      " |    |-- sequence: array (nullable = true)\n",
      " |    |    |-- element: struct (containsNull = true)\n",
      " |    |    |    |-- @name: string (nullable = true)\n",
      " |    |    |    |-- @number: string (nullable = true)\n",
      " |    |    |    |-- sequence: array (nullable = true)\n",
      " |    |    |    |    |-- element: struct (containsNull = true)\n",
      " |    |    |    |    |    |-- @name: string (nullable = true)\n",
      " |    |    |    |    |    |-- @number: string (nullable = true)\n",
      " |    |-- year: string (nullable = true)\n",
      " |-- relations: struct (nullable = true)\n",
      " |    |-- related: string (nullable = true)\n",
      " |-- removed: string (nullable = true)\n",
      " |-- sequences: struct (nullable = true)\n",
      " |    |-- sequence: array (nullable = true)\n",
      " |    |    |-- element: struct (containsNull = true)\n",
      " |    |    |    |-- @name: string (nullable = true)\n",
      " |    |    |    |-- @number: string (nullable = true)\n",
      " |    |    |    |-- @uuid: string (nullable = true)\n",
      " |    |    |    |-- sequence: array (nullable = true)\n",
      " |    |    |    |    |-- element: struct (containsNull = true)\n",
      " |    |    |    |    |    |-- @name: string (nullable = true)\n",
      " |    |    |    |    |    |-- @number: string (nullable = true)\n",
      " |    |    |    |    |    |-- @uuid: string (nullable = true)\n",
      " |    |    |    |    |    |-- sequence: array (nullable = true)\n",
      " |    |    |    |    |    |    |-- element: struct (containsNull = true)\n",
      " |    |    |    |    |    |    |    |-- @name: string (nullable = true)\n",
      " |    |    |    |    |    |    |    |-- @number: string (nullable = true)\n",
      " |    |    |    |    |    |    |    |-- @uuid: string (nullable = true)\n",
      " |    |    |    |    |    |    |    |-- sequence: array (nullable = true)\n",
      " |    |    |    |    |    |    |    |    |-- element: struct (containsNull = true)\n",
      " |    |    |    |    |    |    |    |    |    |-- @name: string (nullable = true)\n",
      " |    |    |    |    |    |    |    |    |    |-- @number: string (nullable = true)\n",
      " |    |    |    |    |    |    |    |    |    |-- @uuid: string (nullable = true)\n",
      " |    |    |    |    |    |    |    |    |    |-- sequence: array (nullable = true)\n",
      " |    |    |    |    |    |    |    |    |    |    |-- element: struct (containsNull = true)\n",
      " |    |    |    |    |    |    |    |    |    |    |    |-- @name: string (nullable = true)\n",
      " |    |    |    |    |    |    |    |    |    |    |    |-- @number: string (nullable = true)\n",
      " |    |    |    |    |    |    |    |    |    |    |    |-- @uuid: string (nullable = true)\n",
      " |-- src-title-info: struct (nullable = true)\n",
      " |    |-- author: array (nullable = true)\n",
      " |    |    |-- element: struct (containsNull = true)\n",
      " |    |    |    |-- first-name: string (nullable = true)\n",
      " |    |    |    |-- home-page: string (nullable = true)\n",
      " |    |    |    |-- last-name: string (nullable = true)\n",
      " |    |    |    |-- middle-name: string (nullable = true)\n",
      " |    |    |    |-- nickname: string (nullable = true)\n",
      " |    |-- book-title: string (nullable = true)\n",
      " |    |-- coverpage: struct (nullable = true)\n",
      " |    |    |-- image: struct (nullable = true)\n",
      " |    |    |    |-- @href: string (nullable = true)\n",
      " |    |-- date: string (nullable = true)\n",
      " |    |-- genre: array (nullable = true)\n",
      " |    |    |-- element: string (containsNull = true)\n",
      " |    |-- keywords: string (nullable = true)\n",
      " |    |-- lang: string (nullable = true)\n",
      " |    |-- sequence: array (nullable = true)\n",
      " |    |    |-- element: struct (containsNull = true)\n",
      " |    |    |    |-- @name: string (nullable = true)\n",
      " |    |    |    |-- @number: string (nullable = true)\n",
      " |    |-- src-lang: string (nullable = true)\n",
      " |    |-- translator: string (nullable = true)\n",
      " |-- title-info: struct (nullable = true)\n",
      " |    |-- annotation: string (nullable = true)\n",
      " |    |-- author: array (nullable = true)\n",
      " |    |    |-- element: struct (containsNull = true)\n",
      " |    |    |    |-- first-name: string (nullable = true)\n",
      " |    |    |    |-- full-name: string (nullable = true)\n",
      " |    |    |    |-- home-page: string (nullable = true)\n",
      " |    |    |    |-- hub-id: string (nullable = true)\n",
      " |    |    |    |-- id: string (nullable = true)\n",
      " |    |    |    |-- last-name: string (nullable = true)\n",
      " |    |    |    |-- middle-name: string (nullable = true)\n",
      " |    |-- book-title: string (nullable = true)\n",
      " |    |-- coverpage: struct (nullable = true)\n",
      " |    |    |-- image: string (nullable = true)\n",
      " |    |-- date: string (nullable = true)\n",
      " |    |-- genre: array (nullable = true)\n",
      " |    |    |-- element: string (containsNull = true)\n",
      " |    |-- keywords: string (nullable = true)\n",
      " |    |-- lang: string (nullable = true)\n",
      " |    |-- sequence: array (nullable = true)\n",
      " |    |    |-- element: struct (containsNull = true)\n",
      " |    |    |    |-- @name: string (nullable = true)\n",
      " |    |    |    |-- @number: string (nullable = true)\n",
      " |    |    |    |-- sequence: array (nullable = true)\n",
      " |    |    |    |    |-- element: struct (containsNull = true)\n",
      " |    |    |    |    |    |-- @name: string (nullable = true)\n",
      " |    |    |    |    |    |-- @number: string (nullable = true)\n",
      " |    |    |    |    |    |-- sequence: array (nullable = true)\n",
      " |    |    |    |    |    |    |-- element: struct (containsNull = true)\n",
      " |    |    |    |    |    |    |    |-- @name: string (nullable = true)\n",
      " |    |    |    |    |    |    |    |-- @number: string (nullable = true)\n",
      " |    |    |    |    |    |    |    |-- sequence: array (nullable = true)\n",
      " |    |    |    |    |    |    |    |    |-- element: struct (containsNull = true)\n",
      " |    |    |    |    |    |    |    |    |    |-- @name: string (nullable = true)\n",
      " |    |    |    |    |    |    |    |    |    |-- @number: string (nullable = true)\n",
      " |    |    |    |    |    |    |    |    |    |-- sequence: array (nullable = true)\n",
      " |    |    |    |    |    |    |    |    |    |    |-- element: struct (containsNull = true)\n",
      " |    |    |    |    |    |    |    |    |    |    |    |-- @name: string (nullable = true)\n",
      " |    |    |    |    |    |    |    |    |    |    |    |-- @number: string (nullable = true)\n",
      " |    |-- src-lang: string (nullable = true)\n",
      " |    |-- translator: string (nullable = true)\n",
      " |-- uid: string (nullable = true)\n",
      " |-- uid_new: string (nullable = true)\n",
      "\n"
     ]
    }
   ],
   "source": [
    "df.printSchema()"
   ]
  },
  {
   "cell_type": "code",
   "execution_count": 12,
   "id": "amber-premiere",
   "metadata": {
    "scrolled": true
   },
   "outputs": [],
   "source": [
    "#extracting distinect not null annotations and genres\n",
    "a_g = (df.select('annotation',F.col('genres.genre.@title').alias('genre'))\n",
    "       .where(F.col('annotation').isNotNull() & F.col('genre').isNotNull())\n",
    "       .distinct()\n",
    "       .cache())"
   ]
  },
  {
   "cell_type": "code",
   "execution_count": 54,
   "id": "concerned-minute",
   "metadata": {},
   "outputs": [
    {
     "data": {
      "text/plain": [
       "[Row(annotation='<p>Ингвар Кампрад\\xa0– шведский предприниматель и основатель компании IKEA. Он сделал то, что до него не удавалось никому на свете: благодаря его стараниям почти у каждого появилась возможность иметь красивый и стильный дом. Но по-настоящему великим его сделали не деньги, а убеждения.</p>\\n<p>Ингвар верил, что у всех людей одинаковые базовые потребности, а потому и относиться ко всем нужно одинаково. Он был настоящим лидером, который трудился ради того, чтобы как можно больше людей жили лучше.</p>', genre=['биографии и мемуары', 'зарубежная публицистика', 'мотивация'])]"
      ]
     },
     "execution_count": 54,
     "metadata": {},
     "output_type": "execute_result"
    }
   ],
   "source": [
    "a_g.take(1)"
   ]
  },
  {
   "cell_type": "markdown",
   "id": "better-marathon",
   "metadata": {},
   "source": [
    "## Preprocessing functions"
   ]
  },
  {
   "cell_type": "code",
   "execution_count": 39,
   "id": "figured-paintball",
   "metadata": {
    "scrolled": true
   },
   "outputs": [],
   "source": [
    "#function to remove html-tags\n",
    "def remove_tags(html):\n",
    "    soup = BeautifulSoup(html,\"html.parser\")\n",
    "    for data in soup(['style', 'script']):\n",
    "        data.decompose()\n",
    "  \n",
    "    return ' '.join(soup.stripped_strings)"
   ]
  },
  {
   "cell_type": "code",
   "execution_count": 42,
   "id": "sustainable-import",
   "metadata": {
    "scrolled": true
   },
   "outputs": [],
   "source": [
    "#preprocessing function for annotations and genres\n",
    "def preprocess(line):\n",
    "    morph = pymorphy2.MorphAnalyzer(lang='ru')\n",
    "    line= remove_tags(line) # removing html-tags\n",
    "    tokens = re.sub(r'[\\W\\d]', ' ', line).split() #removing non-words and tokenization\n",
    "    return [morph.parse(token)[0][2] for token in tokens if morph.parse(token)[0][2] not in stop_words] #lemmatization and stop-words removing\n",
    "\n",
    "prep = F.udf(preprocess, ArrayType(StringType())) "
   ]
  },
  {
   "cell_type": "code",
   "execution_count": 43,
   "id": "wired-chart",
   "metadata": {
    "scrolled": true
   },
   "outputs": [],
   "source": [
    "#function to leave only the first genre in the list\n",
    "def leave_first(genres):\n",
    "    return ' '.join(preprocess(genres[0]))\n",
    "leaveFunc = F.udf(leave_first,returnType=StringType())"
   ]
  },
  {
   "cell_type": "markdown",
   "id": "domestic-monitor",
   "metadata": {},
   "source": [
    "## Annotation processing: tf-idf approach"
   ]
  },
  {
   "cell_type": "code",
   "execution_count": 49,
   "id": "agreed-pattern",
   "metadata": {
    "scrolled": true
   },
   "outputs": [],
   "source": [
    "anns_tfidf = a_g.select('annotation','genre')"
   ]
  },
  {
   "cell_type": "code",
   "execution_count": 50,
   "id": "embedded-pixel",
   "metadata": {},
   "outputs": [],
   "source": [
    "anns_tfidf = anns_tfidf.select(prep('annotation').alias('annotation'),leaveFunc('genre').alias('genre'))"
   ]
  },
  {
   "cell_type": "code",
   "execution_count": 56,
   "id": "understanding-doctor",
   "metadata": {},
   "outputs": [
    {
     "name": "stdout",
     "output_type": "stream",
     "text": [
      "+--------------------+--------------------+\n",
      "|          annotation|               genre|\n",
      "+--------------------+--------------------+\n",
      "|[осторожно, горяч...|         стих поэзия|\n",
      "|[задача, каждый, ...|         стих поэзия|\n",
      "|[книга, основать,...|исторический лите...|\n",
      "|[скромный, девушк...|иронический детектив|\n",
      "|[жизнь, заканчива...|     русский фэнтези|\n",
      "|[сказочный, чудо,...|       детский проза|\n",
      "|[произведение, ра...|   боевой фантастика|\n",
      "|[детство, родител...|    любовный фэнтези|\n",
      "|[законь, термодин...|научно популярный...|\n",
      "|[дмитрий, журавлё...|классический дете...|\n",
      "+--------------------+--------------------+\n",
      "only showing top 10 rows\n",
      "\n"
     ]
    }
   ],
   "source": [
    "anns_tfidf.show(10)"
   ]
  },
  {
   "cell_type": "code",
   "execution_count": 17,
   "id": "innovative-crystal",
   "metadata": {
    "scrolled": true
   },
   "outputs": [],
   "source": [
    "# Function which returns dataset with calculates tf-idfs\n",
    "def tf_idf(documents):\n",
    "\n",
    "    htf = MLHashingTF(inputCol=\"annotation\", outputCol=\"tf\")\n",
    "    tf = htf.transform(documents)\n",
    "    tf.cache()\n",
    "    \n",
    "    idf = MLIDF(inputCol=\"tf\", outputCol=\"idf\")\n",
    "    tfidf = idf.fit(tf).transform(tf)\n",
    "    tf.unpersist()\n",
    "    \n",
    "    return tfidf"
   ]
  },
  {
   "cell_type": "code",
   "execution_count": 18,
   "id": "prescription-investigation",
   "metadata": {},
   "outputs": [],
   "source": [
    "tfidf = tf_idf(anns_tfidf)"
   ]
  },
  {
   "cell_type": "code",
   "execution_count": 11,
   "id": "featured-champion",
   "metadata": {},
   "outputs": [],
   "source": [
    "tfidf = spark.read.parquet(\"/tmp/akuzmin-337762/project/tfidf.parquet\")"
   ]
  },
  {
   "cell_type": "code",
   "execution_count": 61,
   "id": "excited-buffer",
   "metadata": {
    "collapsed": true
   },
   "outputs": [
    {
     "data": {
      "text/plain": [
       "[Row(annotation=['the', 'elites', 'of', 'the', 'west', 'want', 'to', 'introduce', 'mechanisms', 'of', 'democracy', 'among', 'traditional', 'peoples', 'and', 'do', 'not', 'know', 'that', 'these', 'mechanisms', 'are', 'immediately', 'used', 'for', 'tradition', 'many', 'people', 'stop', 'looking', 'at', 'who', 'is', 'nobler', 'than', 'their', 'ancestors', 'and', 'start', 'competing', 'for', 'money'], genre='прочий образовательный литература', tf=SparseVector(262144, {4167: 1.0, 9589: 1.0, 16004: 1.0, 22575: 1.0, 27576: 1.0, 39455: 1.0, 48448: 1.0, 55311: 1.0, 58267: 1.0, 80393: 1.0, 94822: 1.0, 95889: 2.0, 106776: 2.0, 106841: 1.0, 107559: 1.0, 114038: 1.0, 115994: 1.0, 134711: 1.0, 140931: 1.0, 143741: 1.0, 160141: 1.0, 161061: 1.0, 163000: 1.0, 168632: 1.0, 185559: 1.0, 187114: 1.0, 190256: 1.0, 202268: 1.0, 204253: 1.0, 216850: 1.0, 219087: 2.0, 219915: 2.0, 221345: 1.0, 221693: 1.0, 232233: 2.0, 245044: 1.0, 247995: 1.0}), idf=SparseVector(262144, {4167: 8.963, 9589: 10.2047, 16004: 7.8424, 22575: 6.7608, 27576: 4.5092, 39455: 5.9661, 48448: 5.25, 55311: 11.3834, 58267: 5.4938, 80393: 8.9195, 94822: 8.7266, 95889: 8.6325, 106776: 10.2295, 106841: 4.7821, 107559: 10.0616, 114038: 8.8576, 115994: 5.4108, 134711: 8.1253, 140931: 7.1602, 143741: 5.763, 160141: 6.7438, 161061: 7.8352, 163000: 8.0512, 168632: 9.9971, 185559: 6.3255, 187114: 5.8141, 190256: 7.376, 202268: 7.8497, 204253: 8.6108, 216850: 8.0512, 219087: 9.007, 219915: 8.7802, 221345: 11.3834, 221693: 5.763, 232233: 19.9941, 245044: 6.7608, 247995: 8.8576})),\n",
       " Row(annotation=['каждый', 'произведение', 'это', 'небольшой', 'история', 'каждый', 'история', 'это', 'маленький', 'крупица', 'огромный', 'мир', 'это', 'мир', 'всё', 'старинный', 'интересный', 'загадочный', 'история', 'маленький', 'замочный', 'скважина', 'увидеть', 'огромный', 'тайна', 'стих', 'мечтатель', 'открыватель', 'любитель', 'послушать', 'древний', 'сказка', 'легенда', 'костёр'], genre='русский фэнтези', tf=SparseVector(262144, {10293: 2.0, 12976: 1.0, 15525: 1.0, 27780: 1.0, 30031: 1.0, 38413: 1.0, 43379: 1.0, 56978: 2.0, 61772: 1.0, 97080: 1.0, 97481: 1.0, 101555: 1.0, 102860: 2.0, 119829: 1.0, 144838: 3.0, 148577: 1.0, 152458: 1.0, 161359: 1.0, 173151: 1.0, 183947: 1.0, 208422: 1.0, 218355: 1.0, 236554: 3.0, 250618: 1.0, 251825: 2.0, 252471: 1.0}), idf=SparseVector(262144, {10293: 4.6127, 12976: 3.1377, 15525: 3.3302, 27780: 3.233, 30031: 6.9982, 38413: 4.9242, 43379: 4.7379, 56978: 6.442, 61772: 3.9631, 97080: 3.1764, 97481: 3.7331, 101555: 3.5051, 102860: 3.4783, 119829: 9.6786, 144838: 5.6726, 148577: 8.8184, 152458: 8.327, 161359: 3.8425, 173151: 1.451, 183947: 6.2359, 208422: 6.8348, 218355: 3.3673, 236554: 3.3458, 250618: 4.3479, 251825: 7.7795, 252471: 6.9797})),\n",
       " Row(annotation=['секрет', 'юридический', 'грамотность', 'повседневный', 'жизнь', 'бизнес', 'являться', 'ключ', 'успех', 'любой', 'дело', 'наиболее', 'часто', 'делать', 'шаг', 'который', 'первый', 'взгляд', 'являться', 'понятный', 'юридический', 'последствие', 'который', 'мочь', 'различный', 'настоящий', 'книга', 'привести', 'практический', 'совет', 'действие', 'наиболее', 'частый', 'юридический', 'вопрос', 'ситуация', 'дать', 'книга', 'полезный', 'гражданин', 'владелец', 'бизнес', 'юрист', 'студент', 'юридический', 'вуз'], genre='справочник', tf=SparseVector(262144, {16548: 1.0, 25139: 1.0, 26360: 1.0, 39371: 1.0, 40291: 1.0, 52121: 1.0, 55395: 1.0, 67616: 1.0, 72813: 1.0, 82015: 1.0, 83766: 1.0, 94881: 1.0, 97935: 2.0, 101958: 1.0, 113468: 1.0, 114062: 2.0, 115705: 1.0, 119068: 1.0, 120690: 1.0, 125905: 2.0, 137386: 1.0, 145652: 2.0, 146504: 1.0, 156608: 2.0, 157889: 1.0, 164413: 1.0, 168246: 1.0, 171041: 1.0, 191504: 1.0, 213534: 1.0, 219869: 1.0, 221478: 1.0, 223245: 1.0, 224214: 1.0, 229744: 1.0, 245034: 1.0, 255015: 4.0, 258441: 1.0}), idf=SparseVector(262144, {16548: 3.1864, 25139: 1.892, 26360: 4.7069, 39371: 7.4864, 40291: 2.7133, 52121: 5.0208, 55395: 1.3084, 67616: 5.0307, 72813: 3.9631, 82015: 3.5429, 83766: 5.0904, 94881: 4.0039, 97935: 8.61, 101958: 3.7899, 113468: 3.5712, 114062: 2.2153, 115705: 3.6012, 119068: 2.9035, 120690: 5.0927, 125905: 6.1932, 137386: 2.7358, 145652: 7.8283, 146504: 3.7624, 156608: 2.1412, 157889: 2.6378, 164413: 4.999, 168246: 4.6814, 171041: 4.1533, 191504: 4.0144, 213534: 2.2887, 219869: 5.2769, 221478: 4.1573, 223245: 3.8812, 224214: 5.4127, 229744: 3.1611, 245034: 3.5956, 255015: 20.8009, 258441: 4.1822})),\n",
       " Row(annotation=['сколько', 'год', 'великорецкий', 'крестный', 'ход', 'сколько', 'километр', 'пройти', 'сколько', 'день', 'путь', 'вопрос', 'сколько', 'важный', 'особенно', 'идти', 'крестный', 'ход', 'впервые', 'однако', 'опытный', 'паломник', 'понимать', 'важно', 'сколько', 'километр', 'пройти', 'пройти'], genre='книга путешествие', tf=SparseVector(262144, {17812: 2.0, 17894: 1.0, 23306: 1.0, 24418: 3.0, 78530: 2.0, 91945: 5.0, 101960: 1.0, 102175: 1.0, 113486: 1.0, 118848: 1.0, 130031: 1.0, 131032: 1.0, 152383: 1.0, 157889: 1.0, 191541: 1.0, 214572: 2.0, 215086: 1.0, 224095: 1.0, 251286: 1.0}), idf=SparseVector(262144, {17812: 14.4026, 17894: 2.7379, 23306: 3.669, 24418: 10.7585, 78530: 12.5609, 91945: 22.9062, 101960: 10.5724, 102175: 3.8192, 113486: 3.3112, 118848: 4.2459, 130031: 3.1874, 131032: 2.6786, 152383: 4.7797, 157889: 2.6378, 191541: 1.7261, 214572: 8.8704, 215086: 5.0523, 224095: 3.5408, 251286: 7.8138})),\n",
       " Row(annotation=['книга', 'рассмотреть', 'система', 'активный', 'оздоровительный', 'упражнение', 'виргастик', 'направить', 'длительный', 'сохранение', 'физический', 'здоровье', 'виргалетие', 'также', 'профилактика', 'различный', 'патология', 'число', 'опорный', 'двигательный', 'аппарат', 'следствие', 'патология', 'внутренний', 'орган', 'путём', 'увеличение', 'подвижность', 'сустав', 'эластичность', 'связка', 'сустав', 'сухожилие', 'формирование', 'правильный', 'осанка', 'укрепление', 'скелетный', 'мышца', 'нормализация', 'масса', 'тело', 'человек'], genre='здоровье', tf=SparseVector(262144, {340: 1.0, 7492: 1.0, 15631: 1.0, 17774: 1.0, 21356: 1.0, 30409: 1.0, 36684: 1.0, 41102: 1.0, 45739: 1.0, 55714: 1.0, 59743: 1.0, 65253: 1.0, 77504: 2.0, 79684: 1.0, 81564: 1.0, 99958: 1.0, 101958: 1.0, 105851: 1.0, 111732: 1.0, 112803: 1.0, 114062: 1.0, 117140: 1.0, 125762: 1.0, 128409: 1.0, 132151: 1.0, 133783: 1.0, 142447: 1.0, 167397: 1.0, 172627: 1.0, 192015: 1.0, 192605: 1.0, 197142: 1.0, 201189: 2.0, 201285: 1.0, 204691: 1.0, 213984: 1.0, 220885: 1.0, 227547: 1.0, 238512: 1.0, 241702: 1.0, 259457: 1.0}), idf=SparseVector(262144, {340: 1.4399, 7492: 5.3277, 15631: 5.2724, 17774: 11.671, 21356: 4.7344, 30409: 5.561, 36684: 6.7757, 41102: 7.399, 45739: 8.9855, 55714: 6.09, 59743: 5.208, 65253: 8.4522, 77504: 14.5368, 79684: 4.7432, 81564: 7.4515, 99958: 2.585, 101958: 3.7899, 105851: 4.1153, 111732: 10.8237, 112803: 6.0813, 114062: 1.1076, 117140: 6.3628, 125762: 10.9779, 128409: 6.2243, 132151: 4.9512, 133783: 4.7161, 142447: 8.4389, 167397: 5.6166, 172627: 8.237, 192015: 4.946, 192605: 10.2847, 197142: 4.2668, 201189: 14.2413, 201285: 6.7732, 204691: 8.0601, 213984: 6.9615, 220885: 5.3491, 227547: 3.8694, 238512: 4.6296, 241702: 3.6393, 259457: 4.1751}))]"
      ]
     },
     "execution_count": 61,
     "metadata": {},
     "output_type": "execute_result"
    }
   ],
   "source": [
    "tfidf.take(5)"
   ]
  },
  {
   "cell_type": "markdown",
   "id": "ultimate-offering",
   "metadata": {},
   "source": [
    "Vectorization of annotation approach"
   ]
  },
  {
   "cell_type": "code",
   "execution_count": 267,
   "id": "threaded-frame",
   "metadata": {},
   "outputs": [],
   "source": [
    "# Function to make word2vec vectors from string\n",
    "def vectorize(text):\n",
    "    vect_words = []\n",
    "    if (type(text)==type('string')):\n",
    "        text = text.split()\n",
    "    for word in text:\n",
    "        if (word in navec.vocab):\n",
    "            vect_words.append(navec[word])\n",
    "    if (len(vect_words)!=0):\n",
    "        return Vectors.dense(sum(vect_words)/len(vect_words))\n",
    "vect = F.udf(vectorize,returnType=VectorUDT())"
   ]
  },
  {
   "cell_type": "code",
   "execution_count": 57,
   "id": "deadly-winning",
   "metadata": {},
   "outputs": [],
   "source": [
    "vect_dataset = a_g.select(F.col('annotation').alias('original'),vect('annotation').alias('annotation'),'genre').where('annotation is NOT NULL')"
   ]
  },
  {
   "cell_type": "code",
   "execution_count": 58,
   "id": "desperate-orleans",
   "metadata": {},
   "outputs": [
    {
     "name": "stdout",
     "output_type": "stream",
     "text": [
      "+--------------------+--------------------+--------------------+\n",
      "|            original|          annotation|               genre|\n",
      "+--------------------+--------------------+--------------------+\n",
      "|[осторожно, горяч...|[-0.1674173623323...|         стих поэзия|\n",
      "|[задача, каждый, ...|[0.01362182665616...|         стих поэзия|\n",
      "|[книга, основать,...|[-0.1034445315599...|исторический лите...|\n",
      "|[скромный, девушк...|[-0.0132383694872...|иронический детектив|\n",
      "|[жизнь, заканчива...|[-0.1268947124481...|     русский фэнтези|\n",
      "+--------------------+--------------------+--------------------+\n",
      "only showing top 5 rows\n",
      "\n"
     ]
    }
   ],
   "source": [
    "vect_dataset.show(5)"
   ]
  },
  {
   "cell_type": "markdown",
   "id": "worse-guyana",
   "metadata": {},
   "source": [
    "## Preprocessing of genres"
   ]
  },
  {
   "cell_type": "code",
   "execution_count": 35,
   "id": "faced-waste",
   "metadata": {
    "scrolled": true
   },
   "outputs": [],
   "source": [
    "vect_genre_dataset = a_g.select(leaveFunc('genre').alias('genre'))"
   ]
  },
  {
   "cell_type": "code",
   "execution_count": 45,
   "id": "grand-render",
   "metadata": {},
   "outputs": [],
   "source": [
    "vect_genre_dataset = vect_genre_dataset.select(F.col('genre').alias('original'),vect('genre').alias('genre')).where('genre is NOT NULL').distinct().cache()"
   ]
  },
  {
   "cell_type": "code",
   "execution_count": 48,
   "id": "missing-heating",
   "metadata": {},
   "outputs": [
    {
     "name": "stdout",
     "output_type": "stream",
     "text": [
      "+----------------+--------------------+\n",
      "|        original|               genre|\n",
      "+----------------+--------------------+\n",
      "|    недвижимость|[-0.7569200396537...|\n",
      "|делопроизводство|[-0.6689559817314...|\n",
      "|толковый словарь|[-0.6507665514945...|\n",
      "|      богословие|[-0.6365396380424...|\n",
      "|         акафист|[-0.6365396380424...|\n",
      "|  афоризм цитата|[-0.6297910213470...|\n",
      "|         сборник|[-0.6249534487724...|\n",
      "|       попаданец|[-0.5769983530044...|\n",
      "|    книга вампир|[-0.5541301369667...|\n",
      "|      справочник|[-0.5377985835075...|\n",
      "+----------------+--------------------+\n",
      "only showing top 10 rows\n",
      "\n"
     ]
    }
   ],
   "source": [
    "vect_genre_dataset.orderBy('genre').show(10)"
   ]
  },
  {
   "cell_type": "code",
   "execution_count": 358,
   "id": "combined-saturday",
   "metadata": {},
   "outputs": [
    {
     "data": {
      "text/plain": [
       "573"
      ]
     },
     "execution_count": 358,
     "metadata": {},
     "output_type": "execute_result"
    }
   ],
   "source": [
    "vect_genre_dataset.count()"
   ]
  },
  {
   "cell_type": "code",
   "execution_count": 9,
   "id": "handmade-davis",
   "metadata": {},
   "outputs": [],
   "source": [
    "vect_genre_dataset = spark.read.parquet(\"/tmp/akuzmin-337762/project/genres_encoded.parquet\")"
   ]
  },
  {
   "cell_type": "code",
   "execution_count": 28,
   "id": "adaptive-blackberry",
   "metadata": {
    "scrolled": true
   },
   "outputs": [],
   "source": [
    "# Trains a k-means model.\n",
    "kmeans = KMeans(featuresCol='genre',predictionCol='prediction').setK(20).setDistanceMeasure('cosine').setMaxIter(50)\n",
    "model = kmeans.fit(vect_genre_dataset)\n",
    "\n",
    "# Make predictions\n",
    "predictions = model.transform(vect_genre_dataset)\n",
    "\n",
    "# Get coordinates of the cluster centers\n",
    "centers = model.clusterCenters()"
   ]
  },
  {
   "cell_type": "code",
   "execution_count": 29,
   "id": "harmful-aluminum",
   "metadata": {},
   "outputs": [],
   "source": [
    "# Performing PCA to visualize the genre clusters\n",
    "pca = PCAml(k=2, inputCol=\"genre\", outputCol=\"pca\")\n",
    "pca_model = pca.fit(predictions)\n",
    "pca_transformed = pca_model.transform(predictions)"
   ]
  },
  {
   "cell_type": "code",
   "execution_count": 13,
   "id": "senior-preparation",
   "metadata": {},
   "outputs": [],
   "source": [
    "# Function to draw clusters\n",
    "def visualize_clusters(cluster_content):\n",
    "\n",
    "    k = len(cluster_content.select('prediction').distinct().collect())\n",
    "    plt.grid() \n",
    "    plt.xlabel(\"x\")    \n",
    "    plt.ylabel(\"y\")\n",
    "\n",
    "    for i in range(k):\n",
    "        x_coordinates = []\n",
    "        y_coordinates = []\n",
    "        inter_df = cluster_content.where(F.col('prediction')==i)\n",
    "        for row in inter_df.collect():\n",
    "            x_coordinates.append(row[0][0])\n",
    "            y_coordinates.append(row[0][1])\n",
    "        plt.scatter(x_coordinates, y_coordinates)\n",
    "    plt.show()"
   ]
  },
  {
   "cell_type": "code",
   "execution_count": 40,
   "id": "actual-batman",
   "metadata": {},
   "outputs": [
    {
     "data": {
      "image/png": "[encoded data removed]",
      "text/plain": [
       "<Figure size 432x288 with 1 Axes>"
      ]
     },
     "metadata": {
      "needs_background": "light"
     },
     "output_type": "display_data"
    }
   ],
   "source": [
    "visualize_clusters(pca_transformed.select('pca','prediction'))"
   ]
  },
  {
   "cell_type": "code",
   "execution_count": 33,
   "id": "desperate-satellite",
   "metadata": {
    "scrolled": true
   },
   "outputs": [],
   "source": [
    "genres_transformed = model.transform(vect_genre_dataset).select(\"original\", \"prediction\")"
   ]
  },
  {
   "cell_type": "code",
   "execution_count": 60,
   "id": "encouraging-greene",
   "metadata": {},
   "outputs": [
    {
     "data": {
      "text/plain": [
       "[Row(original='магия колдовство', prediction=4),\n",
       " Row(original='даосизм конфуцианство', prediction=4),\n",
       " Row(original='йога', prediction=4),\n",
       " Row(original='индийский религия', prediction=4),\n",
       " Row(original='мистика', prediction=4),\n",
       " Row(original='слияние поглощение', prediction=4),\n",
       " Row(original='религия верование культ', prediction=4),\n",
       " Row(original='дзэн буддизм', prediction=4),\n",
       " Row(original='вероучение буддизм', prediction=4),\n",
       " Row(original='эзотерика оккультизм', prediction=4),\n",
       " Row(original='практический эзотерика', prediction=4),\n",
       " Row(original='спиритизм пророчество предсказание', prediction=4)]"
      ]
     },
     "execution_count": 60,
     "metadata": {},
     "output_type": "execute_result"
    }
   ],
   "source": [
    "genres_transformed.where(F.col('prediction')==4).collect()"
   ]
  },
  {
   "cell_type": "code",
   "execution_count": 56,
   "id": "theoretical-usage",
   "metadata": {
    "scrolled": true
   },
   "outputs": [
    {
     "data": {
      "text/plain": [
       "[Row(prediction=0, count=21),\n",
       " Row(prediction=1, count=7),\n",
       " Row(prediction=2, count=18),\n",
       " Row(prediction=3, count=33),\n",
       " Row(prediction=4, count=12),\n",
       " Row(prediction=5, count=10),\n",
       " Row(prediction=6, count=32),\n",
       " Row(prediction=7, count=41),\n",
       " Row(prediction=8, count=70),\n",
       " Row(prediction=9, count=35),\n",
       " Row(prediction=10, count=39),\n",
       " Row(prediction=11, count=13),\n",
       " Row(prediction=12, count=44),\n",
       " Row(prediction=13, count=35),\n",
       " Row(prediction=14, count=52),\n",
       " Row(prediction=15, count=26),\n",
       " Row(prediction=16, count=5),\n",
       " Row(prediction=17, count=38),\n",
       " Row(prediction=18, count=32),\n",
       " Row(prediction=19, count=10)]"
      ]
     },
     "execution_count": 56,
     "metadata": {},
     "output_type": "execute_result"
    }
   ],
   "source": [
    "genres_transformed.groupBy('prediction').count().orderBy('prediction').collect()"
   ]
  },
  {
   "cell_type": "markdown",
   "id": "raised-briefing",
   "metadata": {},
   "source": [
    "## Model training (tf-idf)"
   ]
  },
  {
   "cell_type": "code",
   "execution_count": 34,
   "id": "official-injection",
   "metadata": {
    "scrolled": true
   },
   "outputs": [],
   "source": [
    "res_df = (tfidf.join(genres_transformed,on=[tfidf.genre==genres_transformed.original])\n",
    "          .select('annotation','genre',F.col('prediction').alias('label'),'tf','idf')).cache()"
   ]
  },
  {
   "cell_type": "code",
   "execution_count": 355,
   "id": "eligible-consortium",
   "metadata": {},
   "outputs": [
    {
     "name": "stdout",
     "output_type": "stream",
     "text": [
      "+--------------------+--------------------+-----+--------------------+--------------------+\n",
      "|          annotation|               genre|label|                  tf|                 idf|\n",
      "+--------------------+--------------------+-----+--------------------+--------------------+\n",
      "|[the, elites, of,...|прочий образовате...|    3|(262144,[4167,958...|(262144,[4167,958...|\n",
      "|[каждый, произвед...|     русский фэнтези|    3|(262144,[10293,12...|(262144,[10293,12...|\n",
      "|[секрет, юридичес...|          справочник|    3|(262144,[16548,25...|(262144,[16548,25...|\n",
      "|[сколько, год, ве...|   книга путешествие|    3|(262144,[17812,17...|(262144,[17812,17...|\n",
      "|[книга, рассмотре...|            здоровье|    0|(262144,[340,7492...|(262144,[340,7492...|\n",
      "+--------------------+--------------------+-----+--------------------+--------------------+\n",
      "only showing top 5 rows\n",
      "\n"
     ]
    }
   ],
   "source": [
    "res_df.show(5)"
   ]
  },
  {
   "cell_type": "code",
   "execution_count": 29,
   "id": "limiting-antibody",
   "metadata": {},
   "outputs": [
    {
     "data": {
      "text/plain": [
       "330490"
      ]
     },
     "execution_count": 29,
     "metadata": {},
     "output_type": "execute_result"
    }
   ],
   "source": [
    "res_df.select('annotation').distinct().count()"
   ]
  },
  {
   "cell_type": "code",
   "execution_count": 35,
   "id": "offshore-norwegian",
   "metadata": {
    "scrolled": true
   },
   "outputs": [],
   "source": [
    "# Splitting preprocessed data into train|test \n",
    "(trainingData, testData) = res_df.randomSplit([0.7, 0.3], seed = 100)"
   ]
  },
  {
   "cell_type": "code",
   "execution_count": 6,
   "id": "specific-blade",
   "metadata": {},
   "outputs": [],
   "source": [
    "trainingData = spark.read.parquet(\"/tmp/akuzmin-337762/project/trainingData.parquet\")\n",
    "testData = spark.read.parquet(\"/tmp/akuzmin-337762/project/testData.parquet\")"
   ]
  },
  {
   "cell_type": "code",
   "execution_count": 36,
   "id": "antique-winner",
   "metadata": {
    "scrolled": true
   },
   "outputs": [
    {
     "name": "stdout",
     "output_type": "stream",
     "text": [
      "fitting done\n"
     ]
    }
   ],
   "source": [
    "# Training Naive Bayes model\n",
    "nb = NaiveBayes(smoothing=1,featuresCol='idf', labelCol='label', predictionCol='prediction')\n",
    "model = nb.fit(trainingData.dropDuplicates(['annotation']))\n",
    "print('fitting done')\n",
    "predictions = model.transform(testData.dropDuplicates(['annotation']))"
   ]
  },
  {
   "cell_type": "code",
   "execution_count": 37,
   "id": "adaptive-occurrence",
   "metadata": {},
   "outputs": [
    {
     "name": "stdout",
     "output_type": "stream",
     "text": [
      "Accuracy =  0.4695987260903687\n",
      "F-measure =  0.34084231145935356\n",
      "Precision =  0.2600896860986547\n",
      "Recall =  0.4943181818181818\n"
     ]
    }
   ],
   "source": [
    "# Calculating classification metrics\n",
    "evaluator = MulticlassClassificationEvaluator(predictionCol=\"prediction\")\n",
    "print('Accuracy = ',evaluator.evaluate(predictions))\n",
    "evaluator.setMetricName('fMeasureByLabel')\n",
    "print('F-measure = ',evaluator.evaluate(predictions))\n",
    "evaluator.setMetricName(\"precisionByLabel\")\n",
    "print('Precision = ',evaluator.evaluate(predictions))\n",
    "evaluator.setMetricName(\"recallByLabel\")\n",
    "print('Recall = ',evaluator.evaluate(predictions))"
   ]
  },
  {
   "cell_type": "code",
   "execution_count": 38,
   "id": "shaped-preview",
   "metadata": {
    "scrolled": true
   },
   "outputs": [
    {
     "name": "stdout",
     "output_type": "stream",
     "text": [
      "fitting done\n"
     ]
    }
   ],
   "source": [
    "# Training random forest classifier\n",
    "rf = RandomForestClassifier(labelCol=\"label\", \\\n",
    "                            featuresCol=\"idf\", \\\n",
    "                            numTrees = 15, \\\n",
    "                            maxDepth = 30, \\\n",
    "                            maxBins = 16)\n",
    "\n",
    "rfModel = rf.fit(trainingData)\n",
    "print('fitting done')\n",
    "predictions = rfModel.transform(testData)"
   ]
  },
  {
   "cell_type": "code",
   "execution_count": 11,
   "id": "american-reviewer",
   "metadata": {},
   "outputs": [
    {
     "data": {
      "text/plain": [
       "22861"
      ]
     },
     "execution_count": 11,
     "metadata": {},
     "output_type": "execute_result"
    }
   ],
   "source": [
    "predictions.select('label','prediction').where('label==prediction').count()"
   ]
  },
  {
   "cell_type": "code",
   "execution_count": 39,
   "id": "therapeutic-arnold",
   "metadata": {},
   "outputs": [
    {
     "name": "stdout",
     "output_type": "stream",
     "text": [
      "Accuracy =  0.2957328428402132\n",
      "F-measure =  0.005617977528089888\n",
      "Precision =  1.0\n",
      "Recall =  0.0028169014084507044\n"
     ]
    }
   ],
   "source": [
    "evaluator = MulticlassClassificationEvaluator(predictionCol=\"prediction\")\n",
    "print('Accuracy = ',evaluator.evaluate(predictions))\n",
    "evaluator.setMetricName('fMeasureByLabel')\n",
    "print('F-measure = ',evaluator.evaluate(predictions))\n",
    "evaluator.setMetricName(\"precisionByLabel\")\n",
    "print('Precision = ',evaluator.evaluate(predictions))\n",
    "evaluator.setMetricName(\"recallByLabel\")\n",
    "print('Recall = ',evaluator.evaluate(predictions))"
   ]
  }
 ],
 "metadata": {
  "kernelspec": {
   "display_name": "Python 3",
   "language": "python",
   "name": "python3"
  },
  "language_info": {
   "codemirror_mode": {
    "name": "ipython",
    "version": 3
   },
   "file_extension": ".py",
   "mimetype": "text/x-python",
   "name": "python",
   "nbconvert_exporter": "python",
   "pygments_lexer": "ipython3",
   "version": "3.8.8"
  }
 },
 "nbformat": 4,
 "nbformat_minor": 5
}
